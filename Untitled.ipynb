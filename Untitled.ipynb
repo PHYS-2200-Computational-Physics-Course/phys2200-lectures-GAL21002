{
 "cells": [
  {
   "cell_type": "code",
   "execution_count": null,
   "id": "75c1c836-a23e-41fc-bcd0-41a61663f846",
   "metadata": {},
   "outputs": [],
   "source": []
  }
 ],
 "metadata": {
  "kernelspec": {
   "display_name": "Julia 1.11.6",
   "language": "julia",
   "name": "julia-1.11"
  },
  "language_info": {
   "file_extension": ".jl",
   "mimetype": "application/julia",
   "name": "julia",
   "version": "1.11.6"
  }
 },
 "nbformat": 4,
 "nbformat_minor": 5
}
